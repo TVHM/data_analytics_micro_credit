{
  "nbformat": 4,
  "nbformat_minor": 0,
  "metadata": {
    "colab": {
      "name": "Basics PArt II .ipynb",
      "provenance": [],
      "authorship_tag": "ABX9TyNudnEeCT0P7asNMngE5ffL",
      "include_colab_link": true
    },
    "kernelspec": {
      "name": "python3",
      "display_name": "Python 3"
    },
    "language_info": {
      "name": "python"
    }
  },
  "cells": [
    {
      "cell_type": "markdown",
      "metadata": {
        "id": "view-in-github",
        "colab_type": "text"
      },
      "source": [
        "<a href=\"https://colab.research.google.com/github/TVHM/data_analytics_micro_credit/blob/main/Basics_PArt_II_.ipynb\" target=\"_parent\"><img src=\"https://colab.research.google.com/assets/colab-badge.svg\" alt=\"Open In Colab\"/></a>"
      ]
    },
    {
      "cell_type": "markdown",
      "source": [
        "# Intro Part II "
      ],
      "metadata": {
        "id": "s8obPcHu_CYu"
      }
    },
    {
      "cell_type": "code",
      "source": [
        ""
      ],
      "metadata": {
        "id": "gFh_GYV0AxMh"
      },
      "execution_count": null,
      "outputs": []
    },
    {
      "cell_type": "markdown",
      "source": [
        "## Data Structure "
      ],
      "metadata": {
        "id": "zrJ6pcla_Kzz"
      }
    },
    {
      "cell_type": "markdown",
      "source": [
        "# Lists "
      ],
      "metadata": {
        "id": "JgRIP3ZuAEMN"
      }
    },
    {
      "cell_type": "code",
      "source": [
        "my_list = [\"hello\", 100,23,47]"
      ],
      "metadata": {
        "id": "kqligV-b_wcx"
      },
      "execution_count": 4,
      "outputs": []
    },
    {
      "cell_type": "code",
      "source": [
        "print(my_list)"
      ],
      "metadata": {
        "colab": {
          "base_uri": "https://localhost:8080/"
        },
        "id": "OvLT4909AT-0",
        "outputId": "372bd45f-9bde-4828-fe33-f964561d0e45"
      },
      "execution_count": 5,
      "outputs": [
        {
          "output_type": "stream",
          "name": "stdout",
          "text": [
            "['hello', 100, 23, 47]\n"
          ]
        }
      ]
    },
    {
      "cell_type": "code",
      "source": [
        "type(my_list)"
      ],
      "metadata": {
        "colab": {
          "base_uri": "https://localhost:8080/"
        },
        "id": "GFpDmf1EAy_Z",
        "outputId": "9a1690ba-be0c-4d2d-d44f-34b7d39e50a9"
      },
      "execution_count": 6,
      "outputs": [
        {
          "output_type": "execute_result",
          "data": {
            "text/plain": [
              "list"
            ]
          },
          "metadata": {},
          "execution_count": 6
        }
      ]
    },
    {
      "cell_type": "code",
      "source": [
        "second_list = [\"one\",\"two\",\"three\"]"
      ],
      "metadata": {
        "id": "h_ZltXk1AZJF"
      },
      "execution_count": 7,
      "outputs": []
    },
    {
      "cell_type": "markdown",
      "source": [
        "*print*(my_list,second_list)"
      ],
      "metadata": {
        "id": "TyWr3fJSBARz"
      }
    }
  ]
}